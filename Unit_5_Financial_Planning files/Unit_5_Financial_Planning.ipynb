{
  "nbformat": 4,
  "nbformat_minor": 0,
  "metadata": {
    "colab": {
      "name": "Unit 5 - Financial Planning.ipynb",
      "provenance": [],
      "collapsed_sections": []
    },
    "kernelspec": {
      "name": "python3",
      "display_name": "Python 3"
    },
    "language_info": {
      "name": "python"
    },
    "accelerator": "GPU"
  },
  "cells": [
    {
      "cell_type": "code",
      "metadata": {
        "id": "w_10DS_Oh-du"
      },
      "source": [
        "# Import Initial Python Librarys.\n",
        "import os\n",
        "import requests\n",
        "import pandas as pd\n",
        "from dotenv import load_dotenv\n",
        "import alpaca_trade_api as tradeapi\n",
        "from MCForecastTools import MCSimulation\n",
        "%matplotlib inline\n"
      ],
      "execution_count": null,
      "outputs": []
    },
    {
      "cell_type": "code",
      "metadata": {
        "id": "QEyjZ09Tk3T5"
      },
      "source": [
        "# Load .env enviroment variables\n",
        "load_dotenv()"
      ],
      "execution_count": null,
      "outputs": []
    },
    {
      "cell_type": "markdown",
      "metadata": {
        "id": "8ivBJeFToZ5S"
      },
      "source": [
        "## Part 1 - Personal Finance Planner"
      ]
    },
    {
      "cell_type": "markdown",
      "metadata": {
        "id": "ne5mwqLlofHL"
      },
      "source": [
        "Collect Crypto Prices Using the requests Library"
      ]
    },
    {
      "cell_type": "code",
      "metadata": {
        "id": "lofaNWjKogDr"
      },
      "source": [
        "# Set current amount of crypto assets\n",
        "my_btc = 1.2\n",
        "my_eth = 5.3"
      ],
      "execution_count": null,
      "outputs": []
    },
    {
      "cell_type": "code",
      "metadata": {
        "id": "DeKTiSkypA2q"
      },
      "source": [
        "# Crypto API URLs according to Requerments\n",
        "btc_url = \"https://api.alternative.me/v2/ticker/Bitcoin/?convert=CAD\"\n",
        "eth_url = \"https://api.alternative.me/v2/ticker/Ethereum/?convert=CAD\""
      ],
      "execution_count": null,
      "outputs": []
    },
    {
      "cell_type": "code",
      "metadata": {
        "id": "aYduWnqXpIAZ"
      },
      "source": [
        "#response_data = requests.get(btc_url).json ( Using requests and Json Python Module)\n",
        "response_data_btc = requests.get(btc_url)\n",
        "\n",
        "response_data_btc\n",
        "\n",
        "response_content_btc = response_data_btc.content\n",
        "\n",
        "response_content_btc\n",
        "\n",
        "data_btc = response_data_btc.json()\n",
        "\n",
        "import json\n",
        "\n",
        "print(json.dumps(data_btc, indent=4))\n",
        "\n",
        "response_data_eth = requests.get(eth_url)\n",
        "\n",
        "response_content_eth = response_data_eth.content\n",
        "\n",
        "data_eth = response_data_eth.json()\n",
        "\n",
        "import json\n",
        "print(json.dumps(data_eth, indent=4))"
      ],
      "execution_count": null,
      "outputs": []
    },
    {
      "cell_type": "code",
      "metadata": {
        "id": "iVYEQc8xphlZ"
      },
      "source": [
        "# Fetch current price\n",
        "\n",
        "# Compute current value of my crpto\n",
        "\n",
        "btc_value = data_btc[\"data\"][\"1\"][\"quotes\"][\"USD\"][\"price\"]\n",
        "\n",
        "my_btc_value = my_btc * btc_value\n",
        "\n",
        "eth_value = data_eth[\"data\"][\"1027\"][\"quotes\"][\"USD\"][\"price\"]\n",
        "\n",
        "my_eth_value = my_eth * eth_value\n",
        "\n",
        "# Print current crypto wallet balance\n",
        "\n",
        "\n",
        "print(f\"The current value of your {my_btc} BTC is ${my_btc_value:0.2f}\")\n",
        "\n",
        "print(f\"The current value of your {my_eth} ETH is ${my_eth_value:0.2f}\")\n"
      ],
      "execution_count": null,
      "outputs": []
    },
    {
      "cell_type": "markdown",
      "metadata": {
        "id": "o4wPAm2jy0jU"
      },
      "source": [
        "Collect Investments Data Using Alpaca: SPY (stocks) and AGG (bonds)"
      ]
    },
    {
      "cell_type": "code",
      "metadata": {
        "id": "tGuXH8n6y25k"
      },
      "source": [
        "# Current amount of shares.\n",
        "\n",
        "my_agg = 200\n",
        "my_spy = 50"
      ],
      "execution_count": null,
      "outputs": []
    },
    {
      "cell_type": "code",
      "metadata": {
        "id": "UDnRBxexzDDy"
      },
      "source": [
        "# Set Alpaca API key and secret\n",
        "\n",
        "alpaca_api_key = os.getenv(\"ALPACA_API_KEY\")\n",
        "\n",
        "alpaca_secret_key = os.getenv(\"ALPACA_SECRET_KEY\")\n"
      ],
      "execution_count": null,
      "outputs": []
    },
    {
      "cell_type": "code",
      "metadata": {
        "id": "AGJjVQzhzUiK"
      },
      "source": [
        "# Create the Alpaca API object\n",
        "\n",
        "api = tradeapi.REST(alpaca_api_key,alpaca_secret_key, api_version = \"v2\")"
      ],
      "execution_count": null,
      "outputs": []
    },
    {
      "cell_type": "code",
      "metadata": {
        "id": "EYjdk_Ekzji5"
      },
      "source": [
        "# Format current date as ISO format\n",
        "today = pd.Timestamp(\"2020-10-16\", tz=\"America/New_York\").isoformat()\n",
        "\n",
        "# Set the tickers\n",
        "\n",
        "tickers = [\"AGG\", \"SPY\"]\n",
        "\n",
        "# Set timeframe to '1D' for Alpaca API\n",
        "\n",
        "timeframe = \"1D\"\n",
        "\n",
        "# Get current closing prices for SPY and AGG\n",
        "\n",
        "df_portfolio = api.get_barset( tickers, timeframe, start=today, end=today,).df\n",
        "\n",
        "# Drop the time component of the date\n",
        "\n",
        "df_portfolio.index = df_portfolio.index.date\n",
        "\n",
        "# Preview DataFrame\n",
        "\n",
        "df_portfolio.head()"
      ],
      "execution_count": null,
      "outputs": []
    },
    {
      "cell_type": "code",
      "metadata": {
        "id": "mg2eUU-43vOM"
      },
      "source": [
        "# Pick AGG and SPY close prices\n",
        "\n",
        "agg_close_price = float(df_portfolio[\"AGG\"][\"close\"])\n",
        "\n",
        "spy_close_price = float(df_portfolio[\"SPY\"][\"close\"])\n",
        "\n",
        "# Print AGG and SPY close prices\n",
        "\n",
        "print(f\"Current AGG closing price: ${agg_close_price}\")\n",
        "\n",
        "print(f\"Current SPY closing price: ${spy_close_price}\")"
      ],
      "execution_count": null,
      "outputs": []
    },
    {
      "cell_type": "code",
      "metadata": {
        "id": "5vV1UYInH-_h"
      },
      "source": [
        "# Compute the current value of shares\n",
        "\n",
        "my_agg_value = my_agg * agg_close_price \n",
        "\n",
        "my_spy_value = my_spy * spy_close_price \n",
        "\n",
        "# Print current value of share\n",
        "\n",
        "print(f\"The current value of your {my_spy} SPY shares is ${my_spy_value:0.2f}\")\n",
        "\n",
        "print(f\"The current value of your {my_agg} AGG shares is ${my_agg_value:0.2f}\")"
      ],
      "execution_count": null,
      "outputs": []
    },
    {
      "cell_type": "markdown",
      "metadata": {
        "id": "xqJfUWr7IJw_"
      },
      "source": [
        "Savings Health Analysis"
      ]
    },
    {
      "cell_type": "code",
      "metadata": {
        "id": "N4IdXpdYIFTy"
      },
      "source": [
        "# Set monthly household income\n",
        "\n",
        "monthly_income = 12000\n",
        "\n",
        "total_crypto = my_btc_value + my_eth_value\n",
        "\n",
        "total_shares_value = my_agg_value + my_spy_value\n",
        "\n",
        "data = {'amount':[total_crypto, total_shares_value]} \n",
        "\n",
        "# Creates pandas DataFrame.\n",
        "\n",
        "df_savings = pd.DataFrame(data, index =['crypto', 'shares']) \n",
        "\n",
        "# print the data \n",
        "\n",
        "df_savings"
      ],
      "execution_count": null,
      "outputs": []
    },
    {
      "cell_type": "code",
      "metadata": {
        "id": "WteZdHaFIPtP"
      },
      "source": [
        "# Plot savings pie chart\n",
        "\n",
        "df_savings.plot.pie(y=\"amount\", title=\"Composition of Personal Savings\")"
      ],
      "execution_count": null,
      "outputs": []
    },
    {
      "cell_type": "code",
      "metadata": {
        "id": "XLp0z6WBIW0w"
      },
      "source": [
        "# Set ideal emergency fund\n",
        "\n",
        "emergency_fund = monthly_income * 3\n",
        "\n",
        "# Calculate total amount of savings\n",
        "\n",
        "total_savings = total_crypto + total_shares_value\n",
        "\n",
        "# Validate saving health\n",
        "\n",
        "if emergency_fund < total_savings:\n",
        "        print(\"Congratuations! You have enough money in your emergency fund.\")\n",
        "elif emergency_fund == total_savings:\n",
        "        print(\"Congratulations! You have reach this financial goal\")\n",
        "else:\n",
        "        print(f\"You are {emergency_fund - total_savings} dollars away from reaching the goal\")"
      ],
      "execution_count": null,
      "outputs": []
    },
    {
      "cell_type": "markdown",
      "metadata": {
        "id": "ed2o_uEWIiTg"
      },
      "source": [
        "## Part 2 - Retirement Planning"
      ]
    },
    {
      "cell_type": "code",
      "metadata": {
        "id": "nmGLHID9Ij3I"
      },
      "source": [
        "# Set start and end dates of five years back from today.\n",
        "# Sample results may vary from the solution based on the time frame chosen\n",
        "\n",
        "start_date = pd.Timestamp('2015-10-16', tz='America/New_York').isoformat()\n",
        "\n",
        "end_date = pd.Timestamp('2020-10-16', tz='America/New_York').isoformat()"
      ],
      "execution_count": null,
      "outputs": []
    },
    {
      "cell_type": "code",
      "metadata": {
        "id": "-IBbyAgbIpcf"
      },
      "source": [
        "# Get 5 years' worth of historical data for SPY and AGG\n",
        "\n",
        "tickers = [\"AGG\",\"SPY\"]\n",
        "\n",
        "df_stock_data = api.get_barset(tickers, timeframe, start=start_date, end=end_date).df\n",
        "\n",
        "# Drop the time component of the date\n",
        "\n",
        "df_stock_data.index = df_stock_data.index.date\n",
        "\n",
        "# Display sample data\n",
        "\n",
        "df_stock_data.head()"
      ],
      "execution_count": null,
      "outputs": []
    },
    {
      "cell_type": "code",
      "metadata": {
        "id": "-9n-WE8nIuvA"
      },
      "source": [
        "# Configuring a Monte Carlo simulation to forecast 30 years cumulative returns\n",
        "\n",
        "MC_even_dist = MCSimulation(portfolio_data = df_stock_data, weights = [.40,.60], num_simulation = 500, num_trading_days = 252*30)"
      ],
      "execution_count": null,
      "outputs": []
    },
    {
      "cell_type": "code",
      "metadata": {
        "id": "X823crJGIyiZ"
      },
      "source": [
        "# Printing the simulation input data\n",
        "\n",
        "MC_even_dist.portfolio_data.head()"
      ],
      "execution_count": null,
      "outputs": []
    },
    {
      "cell_type": "code",
      "metadata": {
        "id": "8vpOaNMBI1Nh"
      },
      "source": [
        "# Running a Monte Carlo simulation to forecast 30 years cumulative returns\n",
        "\n",
        "MC_even_dist.calc_cumulative_return()"
      ],
      "execution_count": null,
      "outputs": []
    },
    {
      "cell_type": "code",
      "metadata": {
        "id": "QjO4gvRrI6HR"
      },
      "source": [
        "# Plot simulation outcomes\n",
        "\n",
        "line_plot = MC_even_dist.plot_simulation()"
      ],
      "execution_count": null,
      "outputs": []
    },
    {
      "cell_type": "code",
      "metadata": {
        "id": "p8cLkBeEI_Bp"
      },
      "source": [
        "# Plot probability distribution and confidence intervals\n",
        "\n",
        "dist_plot = MC_even_dist.plot_distribution()"
      ],
      "execution_count": null,
      "outputs": []
    },
    {
      "cell_type": "markdown",
      "metadata": {
        "id": "sIUU8-8SJMlx"
      },
      "source": [
        "Retirement Analysis"
      ]
    },
    {
      "cell_type": "code",
      "metadata": {
        "id": "tq6hPu60JE2w"
      },
      "source": [
        "# Fetch summary statistics from the Monte Carlo simulation results\n",
        "\n",
        "even_tbl = MC_even_dist.summarize_cumulative_return()\n",
        "\n",
        "# Print summary statistics\n",
        "\n",
        "print(even_tbl)"
      ],
      "execution_count": null,
      "outputs": []
    },
    {
      "cell_type": "markdown",
      "metadata": {
        "id": "HahYbKdoJRDp"
      },
      "source": [
        "Calculate the expected portfolio return at the 95% lower and upper confidence intervals based on a $20,000 initial investment"
      ]
    },
    {
      "cell_type": "code",
      "metadata": {
        "id": "moudDm5qJIjR"
      },
      "source": [
        "# Set initial investment\n",
        "\n",
        "initial_investment = 20000\n",
        "\n",
        "# Use the lower and upper `95%` confidence intervals to calculate the range of the possible outcomes of our $20,000\n",
        "\n",
        "ci_lower = round(even_tbl[8]*20000,2)\n",
        "\n",
        "ci_upper = round(even_tbl[9]*20000,2)\n",
        "\n",
        "# Print results\n",
        "\n",
        "print(f\"There is a 95% chance that an initial investment of ${initial_investment} in the portfolio\"\n",
        "      f\" over the next 30 years will end within in the range of\"\n",
        "      f\" ${ci_lower} and ${ci_upper}\")"
      ],
      "execution_count": null,
      "outputs": []
    },
    {
      "cell_type": "markdown",
      "metadata": {
        "id": "3AT6BwafJbtg"
      },
      "source": [
        "Calculate the expected portfolio return at the 95% lower and upper confidence intervals based on a 50% increase in the initial investment."
      ]
    },
    {
      "cell_type": "code",
      "metadata": {
        "id": "1w-Uq5GPJXGa"
      },
      "source": [
        "# Set initial investment\n",
        "\n",
        "initial_investment = 20000 * 1.5\n",
        "\n",
        "# Use the lower and upper `95%` confidence intervals to calculate the range of the possible outcomes of our $30,000\n",
        "\n",
        "ci_lower = round(even_tbl[8]*30000,2)\n",
        "\n",
        "ci_upper = round(even_tbl[9]*30000,2)\n",
        "\n",
        "# Print results\n",
        "\n",
        "print(f\"There is a 95% chance that an initial investment of ${initial_investment} in the portfolio\"\n",
        "      f\" over the next 30 years will end within in the range of\"\n",
        "      f\" ${ci_lower} and ${ci_upper}\")"
      ],
      "execution_count": null,
      "outputs": []
    },
    {
      "cell_type": "markdown",
      "metadata": {
        "id": "ysJrtSRNJjcp"
      },
      "source": [
        "### Optional Challenge - Early Retirement"
      ]
    },
    {
      "cell_type": "markdown",
      "metadata": {
        "id": "cxkjp4mZJmgY"
      },
      "source": [
        "Five Years Retirement Option"
      ]
    },
    {
      "cell_type": "code",
      "metadata": {
        "id": "OkRFxqMPJnUQ"
      },
      "source": [
        "# Configuring a Monte Carlo simulation to forecast 5 years cumulative returns\n",
        "\n",
        "MC_even_dist_five = MCSimulation(portfolio_data = df_stock_data, weights = [.40,.60], num_simulation = 500, num_trading_days = 252*5)\n",
        "\n",
        "MC_even_dist_five.portfolio_data.head()"
      ],
      "execution_count": null,
      "outputs": []
    },
    {
      "cell_type": "code",
      "metadata": {
        "id": "ejHLxJAXJtRR"
      },
      "source": [
        "# Running a Monte Carlo simulation to forecast 5 years cumulative returns\n",
        "\n",
        "MC_even_dist_five.calc_cumulative_return()"
      ],
      "execution_count": null,
      "outputs": []
    },
    {
      "cell_type": "code",
      "metadata": {
        "id": "Ov6jdb6fJv-Z"
      },
      "source": [
        "# Plot simulation outcomes\n",
        "\n",
        "line_plot_five = MC_even_dist_five.plot_simulation()"
      ],
      "execution_count": null,
      "outputs": []
    },
    {
      "cell_type": "code",
      "metadata": {
        "id": "Tb4SvQaoJyXY"
      },
      "source": [
        "# Plot probability distribution and confidence intervals\n",
        "\n",
        "dist_plot_five = MC_even_dist_five.plot_distribution()"
      ],
      "execution_count": null,
      "outputs": []
    },
    {
      "cell_type": "code",
      "metadata": {
        "id": "sPSNWssCJ0th"
      },
      "source": [
        "# Fetch summary statistics from the Monte Carlo simulation results\n",
        "\n",
        "even_tbl_five = MC_even_dist_five.summarize_cumulative_return()\n",
        "\n",
        "# Print summary statistics\n",
        "\n",
        "print(even_tbl_five)"
      ],
      "execution_count": null,
      "outputs": []
    },
    {
      "cell_type": "code",
      "metadata": {
        "id": "JmlHflO3J4YI"
      },
      "source": [
        "# Set initial investment\n",
        "\n",
        "initial_investment_five = 60000\n",
        "\n",
        "# Use the lower and upper `95%` confidence intervals to calculate the range of the possible outcomes of our $60,000\n",
        "\n",
        "ci_lower_five = round(even_tbl_five[8]*60000,2)\n",
        "\n",
        "ci_upper_five = round(even_tbl_five[9]*60000,2)\n",
        "\n",
        "# Print results\n",
        "\n",
        "print(f\"There is a 95% chance that an initial investment of ${initial_investment_five} in the portfolio\"\n",
        "      f\" over the next 5 years will end within in the range of\"\n",
        "      f\" ${ci_lower_five} and ${ci_upper_five}\")"
      ],
      "execution_count": null,
      "outputs": []
    },
    {
      "cell_type": "markdown",
      "metadata": {
        "id": "2Us5wD3OJ_7L"
      },
      "source": [
        "Ten Years Retirement Option"
      ]
    },
    {
      "cell_type": "code",
      "metadata": {
        "id": "WCHkNpDLKAgg"
      },
      "source": [
        "# Configuring a Monte Carlo simulation to forecast 10 years cumulative returns\n",
        "\n",
        "MC_even_dist_ten = MCSimulation(portfolio_data = df_stock_data, weights = [.40,.60], num_simulation = 500, num_trading_days = 252*10)\n",
        "\n",
        "MC_even_dist_ten.portfolio_data.head()"
      ],
      "execution_count": null,
      "outputs": []
    },
    {
      "cell_type": "code",
      "metadata": {
        "id": "QCgPLjm_KE5g"
      },
      "source": [
        "# Running a Monte Carlo simulation to forecast 10 years cumulative returns\n",
        "\n",
        "MC_even_dist_ten.calc_cumulative_return()"
      ],
      "execution_count": null,
      "outputs": []
    },
    {
      "cell_type": "code",
      "metadata": {
        "id": "hnQemg9FKHrK"
      },
      "source": [
        "# Plot simulation outcomes\n",
        "\n",
        "line_plot_ten = MC_even_dist_ten.plot_simulation()"
      ],
      "execution_count": null,
      "outputs": []
    },
    {
      "cell_type": "code",
      "metadata": {
        "id": "mNHQ6YFOKKTi"
      },
      "source": [
        "# Plot probability distribution and confidence intervals\n",
        "\n",
        "dist_plot_ten = MC_even_dist_ten.plot_distribution()"
      ],
      "execution_count": null,
      "outputs": []
    },
    {
      "cell_type": "code",
      "metadata": {
        "id": "0iwxSuKSKMU4"
      },
      "source": [
        "# Fetch summary statistics from the Monte Carlo simulation results\n",
        "\n",
        "even_tbl_ten = MC_even_dist_ten.summarize_cumulative_return()\n",
        "\n",
        "# Print summary statistics\n",
        "\n",
        "print(even_tbl_ten)"
      ],
      "execution_count": null,
      "outputs": []
    },
    {
      "cell_type": "code",
      "metadata": {
        "id": "wrEeWFvKKPZz"
      },
      "source": [
        "# Set initial investment\n",
        "\n",
        "initial_investment_ten = 60000\n",
        "\n",
        "# Use the lower and upper `95%` confidence intervals to calculate the range of the possible outcomes of our $60,000\n",
        "\n",
        "ci_lower_ten = round(even_tbl_ten[8]*60000,2)\n",
        "\n",
        "ci_upper_ten = round(even_tbl_ten[9]*60000,2)\n",
        "\n",
        "# Print results\n",
        "print(f\"There is a 95% chance that an initial investment of ${initial_investment_ten} in the portfolio\"\n",
        "      f\" over the next 10 years will end within in the range of\"\n",
        "      f\" ${ci_lower_ten} and ${ci_upper_ten}\")"
      ],
      "execution_count": null,
      "outputs": []
    }
  ]
}